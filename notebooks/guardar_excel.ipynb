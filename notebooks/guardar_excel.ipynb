{
 "cells": [
  {
   "cell_type": "code",
   "execution_count": 4,
   "metadata": {},
   "outputs": [
    {
     "name": "stderr",
     "output_type": "stream",
     "text": [
      "<>:11: SyntaxWarning: invalid escape sequence '\\y'\n",
      "<>:12: SyntaxWarning: invalid escape sequence '\\y'\n",
      "<>:11: SyntaxWarning: invalid escape sequence '\\y'\n",
      "<>:12: SyntaxWarning: invalid escape sequence '\\y'\n",
      "C:\\Users\\migue\\AppData\\Local\\Temp\\ipykernel_10988\\3826682273.py:11: SyntaxWarning: invalid escape sequence '\\y'\n",
      "  taxi_feb.to_csv(f'{output_folder}\\yellow_tripdata_2020-02.csv', index=False)\n",
      "C:\\Users\\migue\\AppData\\Local\\Temp\\ipykernel_10988\\3826682273.py:12: SyntaxWarning: invalid escape sequence '\\y'\n",
      "  taxi_may.to_csv(f'{output_folder}\\yellow_tripdata_2020-04.csv', index=False)\n"
     ]
    },
    {
     "name": "stdout",
     "output_type": "stream",
     "text": [
      "leyando data\n",
      "data leida\n",
      "guardando data\n",
      "data guardada\n"
     ]
    }
   ],
   "source": [
    "import pandas as pd\n",
    "print(\"leyando data\")\n",
    "\n",
    "taxi_feb = pd.read_parquet('https://d37ci6vzurychx.cloudfront.net/trip-data/yellow_tripdata_2020-02.parquet')\n",
    "taxi_may = pd.read_parquet('https://d37ci6vzurychx.cloudfront.net/trip-data/yellow_tripdata_2020-04.parquet')\n",
    "print(\"data leida\")\n",
    "\n",
    "output_folder = r'C:\\Users\\migue\\OneDrive\\Documentos\\GitHub\\Test_taxis\\data\\raw'\n",
    "print(\"guardando data\")\n",
    "\n",
    "taxi_feb.to_csv(f'{output_folder}\\yellow_tripdata_2020-02.csv', index=False)\n",
    "taxi_may.to_csv(f'{output_folder}\\yellow_tripdata_2020-04.csv', index=False)\n",
    "print(\"data guardada\")"
   ]
  }
 ],
 "metadata": {
  "kernelspec": {
   "display_name": "proyectogit",
   "language": "python",
   "name": "python3"
  },
  "language_info": {
   "codemirror_mode": {
    "name": "ipython",
    "version": 3
   },
   "file_extension": ".py",
   "mimetype": "text/x-python",
   "name": "python",
   "nbconvert_exporter": "python",
   "pygments_lexer": "ipython3",
   "version": "3.12.4"
  }
 },
 "nbformat": 4,
 "nbformat_minor": 2
}
